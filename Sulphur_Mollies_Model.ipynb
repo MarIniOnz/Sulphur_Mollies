{
 "cells": [
  {
   "cell_type": "markdown",
   "metadata": {},
   "source": [
    "# Martin Iniguez de Onzono Muruaga. Summer Semester 2022."
   ]
  },
  {
   "cell_type": "markdown",
   "metadata": {},
   "source": [
    "# Sulphur mollies' waves model"
   ]
  },
  {
   "cell_type": "markdown",
   "metadata": {},
   "source": [
    "## Introduction"
   ]
  },
  {
   "cell_type": "markdown",
   "metadata": {},
   "source": [
    "*Poecilia sulphuraria*, also known as sulphur mollies, are a variety of fish, highly endemic to some sulphide spring complexes in Mexico, being discovered in *Baños del Azufre*, which literally translates to \"Sulphur Baths\" in Spanish. \n",
    "These small extremophiles which can grow up to 12 cm, are used to these $H_{2}S$-rich waters, in which they can be found in high abundance and density **[1]**.\n",
    "\n",
    "Due to water's low oxygen content, mollies gather at the surface to be able to breath air. For avian predators, that is a perfect scenario, in which they can spot their preys easily and pull them out of the water without having to dive inside the sulphide springs. These mollies have developed a remarkable collective antipredator behavior, based on high density of its kind and \"trust\" in their school of fish and their neighbors.\n",
    "    \n",
    "Once a molly detects an anomaly in its surroundings (very well may be spotting a bird or another animal going around them, or just a leaf falling on top of the water), they will dive into safety. Surrounding mollies will follow, forming \"fish waves\" that can be very visible from the surface, and expand acroos the pond. Sometimes this dives are just random, or are not due to a specific threat, and mollies will also follow their partners. These waves also produces some visual effect on the predators, which are discouraged to go into the water since a bigger predator producing these waves could be hiding in them **[2]**."
   ]
  },
  {
   "cell_type": "markdown",
   "metadata": {},
   "source": [
    "## Mathematical Model"
   ]
  },
  {
   "cell_type": "markdown",
   "metadata": {},
   "source": [
    "Those waves create a challenge for the creation of a model representating those waves in a large population of mollies. For that a 100x100 square matrix was created, in which each cell represented the state of a fish: 0 for being in the surface (**S**), 1 for staying at the bottom (**B**), and 2 for diving in (**D**). The matrix started as all the values set to 0 (no disturbance yet occured), and these states were updated every time step (0.1 s), until a simulation of 30 s was completed (total 300 time steps simulated).\n",
    "\n",
    "In an early stage of the model, the inclusion of only 2 possible states (surface and underwater) was contemplated. However, the inclusion of a 3$^{rd}$ one reduced the complexity of the system (no need to record how long has passed since a change of state has occured), it introduces an absolute refractory period (at least 1 time step), and it allows for easier visualization: the splash produced by the waves can be visualized thanks to a color map showing the fish exactly when they dive in.\n",
    "  \n",
    "Once it was established that the fishes could be in three different states, a stochastic model was set to produce the changes from one state to the next one, encompassing these three important factors:\n",
    "\n",
    "-  Time they can stay underwater without breathing pure air (represented mathematically by parameter $\\alpha$ ).\n",
    "-  How frequent random dives happen ($\\beta$ ).\n",
    "-  Trust of the fish to their peers ($\\gamma$).\n",
    "\n",
    "Thus, the transition probability from Surface state to Diving one depends on parameters $\\beta$ and $\\gamma$, the transition probability from Bottom to Surface depends on $\\alpha$, and Diving follows into Bottom state directly after 1 time step (time that it takes for the fish to dive in)."
   ]
  },
  {
   "cell_type": "code",
   "execution_count": 1,
   "metadata": {},
   "outputs": [
    {
     "data": {
      "image/png": "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\n",
      "text/plain": [
       "<IPython.core.display.Image object>"
      ]
     },
     "execution_count": 1,
     "metadata": {},
     "output_type": "execute_result"
    }
   ],
   "source": [
    "from IPython.display import Image\n",
    "\n",
    "Image('diagram.png')"
   ]
  },
  {
   "cell_type": "markdown",
   "metadata": {},
   "source": [
    "To calculate those transition probabilities I used the following equations:"
   ]
  },
  {
   "cell_type": "markdown",
   "metadata": {},
   "source": [
    "$$ P_i(S_{t+1}|B_{t}) = \\alpha $$\n",
    "\n",
    "$$ P_i(D_{t+1}|S_{t}) = \\sum_{neighbors} \\gamma d_{j,t} + \\beta $$\n",
    "\n",
    "$$ P_i(B_{t+1}|D_{t}) = 1 $$"
   ]
  },
  {
   "cell_type": "markdown",
   "metadata": {},
   "source": [
    "In the first equation, the transition probability of a fish to go from resurface in the next time step is $\\alpha$, which would represent the time a fish can stay underwater until the urge of going up to the surface is too strong. \n",
    "\n",
    "In the second equation, the transition probability of a fish to dive in, is the sum of the state of the surrounding neighbors, being $d_{i,t}$ = 1 when a neighboring fish *i* is diving in time step *t*, and 0 otherwise. This sum is weighted by parameter $\\gamma$, reflecting the trust of the fish to its peers. If $\\gamma$ is equal to 1, it means that whenever there is 1 fish diving in, all of its neighbors will follow, for 0.5, it would mean half of its neighbots follow, and so on. As the system starts with all fishes at the surface, it needs a stochastic parameter $\\beta$ that allows for random diving of the fish, or the system would remain static at the fixed point corresponding to all the points of the grid being 0.\n",
    "\n",
    "As for the last equation, it is pretty easy. The Diving state is an unstable one in which the fish only remain for 1 time step."
   ]
  },
  {
   "cell_type": "markdown",
   "metadata": {},
   "source": [
    "## Computational Model"
   ]
  },
  {
   "cell_type": "markdown",
   "metadata": {},
   "source": [
    "First, all the necessary tools and packages are imported."
   ]
  },
  {
   "cell_type": "code",
   "execution_count": 2,
   "metadata": {},
   "outputs": [],
   "source": [
    "import numpy as np\n",
    "import matplotlib.pyplot as plt\n",
    "import matplotlib.animation as anim\n",
    "import matplotlib\n",
    "from matplotlib.colors import ListedColormap"
   ]
  },
  {
   "cell_type": "markdown",
   "metadata": {},
   "source": [
    "Now, the functions that are used to embellish or shorten the computation in the final code are presented here."
   ]
  },
  {
   "cell_type": "code",
   "execution_count": 3,
   "metadata": {},
   "outputs": [],
   "source": [
    "# Function that detects whether the index provided of the cell lies on an edge of the grid. \n",
    "def edges(grid_dim, index):\n",
    "    if index == 0: # If we are on the first row/column\n",
    "        start_index = 0;\n",
    "        end_index = index + 2;\n",
    "    elif index == grid_dim - 1: # If we are on the last row/column\n",
    "        start_index = index-1;\n",
    "        end_index = grid_dim;\n",
    "    else:\n",
    "        start_index = index- 1;\n",
    "        end_index = index + 2;\n",
    "    return start_index, end_index    \n",
    "\n",
    "# Function that provides the 3x3 grid surrounding a cell with the state of all the neighbors (smaller when in the edges).\n",
    "def surroundings(grid, row_ind, column_ind):\n",
    "    height, width = grid.shape\n",
    "    start_row, end_row = edges(height, row_ind)\n",
    "    start_col, end_col = edges(width, column_ind)\n",
    "    \n",
    "    neighbors = grid[start_row:end_row, start_col:end_col]\n",
    "    return neighbors\n",
    "\n",
    "# Function that gives the appropiate color map and functions for the color bar so we have the desired colors in the graph.\n",
    "def give_color_map():\n",
    "    \n",
    "    col_dict={0:\"#0066cc\",\n",
    "          1:\"#808080\",\n",
    "          2:\"white\"}\n",
    "\n",
    "    cm = ListedColormap([col_dict[x] for x in col_dict.keys()])\n",
    "\n",
    "    labels = np.array([\"Surface\",\"Bottom\",\"Dive in\"])\n",
    "    len_lab = len(labels)\n",
    "\n",
    "    norm_bins = np.sort([*col_dict.keys()]) + 0.5\n",
    "    norm_bins = np.insert(norm_bins, 0, np.min(norm_bins) - 1.0)\n",
    "\n",
    "    norm = matplotlib.colors.BoundaryNorm(norm_bins, len_lab, clip=True)\n",
    "    fmt = matplotlib.ticker.FuncFormatter(lambda x, pos: labels[norm(x)])\n",
    "\n",
    "    return cm, norm, norm_bins, fmt"
   ]
  },
  {
   "cell_type": "markdown",
   "metadata": {},
   "source": [
    "Then, the functions that calculate whether there is a stochastic change of state or not."
   ]
  },
  {
   "cell_type": "code",
   "execution_count": 4,
   "metadata": {},
   "outputs": [],
   "source": [
    "# In the case of being at the Bottom, it will rise up if alpha > random number generated between 0 and 1.\n",
    "def come_up(prob_go_up):\n",
    "    p = prob_go_up\n",
    "    rand_num = np.random.random()\n",
    "    state = p < rand_num\n",
    "    return int(state)\n",
    "\n",
    "# In the case of being at the Surface, it will dive if the weighted sum of the amount of diving neighbors + beta\n",
    "# is greater than a random number between 0 and 1.\n",
    "def dive_in(grid, row_ind, col_ind, weight_neigh, stoch_param):\n",
    "    neighbors = surroundings(grid, row_ind, col_ind)\n",
    "    prob = sum(sum((neighbors==2))) * weight_neigh + stoch_param\n",
    "    rand_num = np.random.random()\n",
    "    diving = prob > rand_num\n",
    "    if diving:\n",
    "        return 2\n",
    "    else:\n",
    "        return 0"
   ]
  },
  {
   "cell_type": "markdown",
   "metadata": {},
   "source": [
    "Here, I define the main parameters of the model, being the time step (0.1 s), the length of the simulation, the grid size, and which will be the gammas, alphas, and betas I will use to look at different scenarios."
   ]
  },
  {
   "cell_type": "code",
   "execution_count": 5,
   "metadata": {},
   "outputs": [],
   "source": [
    "dt = 0.1 #s\n",
    "total_time = 30 #s\n",
    "time_steps = np.arange(0,total_time,dt)\n",
    "\n",
    "grid_size = 100\n",
    "\n",
    "gamma = [0.15, 0.4, 0.9] # 0.4 default, Weight of the neighboring dives\n",
    "beta = [0.02, 2e-5, 2e-7] # 2e-05 default, Stochastic going down\n",
    "alpha = [0.3, 5e-2, 5e-4] # 5e-2 default, Prob coming up\n",
    "\n",
    "# Parameters used in visualization of the color maps.\n",
    "cm, norm, norm_bins, fmt = give_color_map()\n",
    "diff = norm_bins[1:] - norm_bins[:-1]\n",
    "tickz = norm_bins[:-1] + diff / 2"
   ]
  },
  {
   "cell_type": "markdown",
   "metadata": {},
   "source": [
    "Finally, the main code, in which different loops are used to look at different combinations of the parameters so the one that better approximates to the real scenario is found. Videos are created as animation so the whole dynamics can be appreciated."
   ]
  },
  {
   "cell_type": "code",
   "execution_count": 6,
   "metadata": {},
   "outputs": [
    {
     "data": {
      "image/png": "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\n",
      "text/plain": [
       "<Figure size 640x480 with 2 Axes>"
      ]
     }
   ],
   "source": [
    "for weight_neigh in gamma:\n",
    "    for stoch_param in beta:\n",
    "        for prob_come_up in alpha:\n",
    "            \n",
    "            grid = np.zeros((grid_size, grid_size))\n",
    "            fig,ax = plt.subplots()\n",
    "            frames = [] # for storing the generated images\n",
    "            \n",
    "            for t in time_steps:\n",
    "                new_grid = grid.copy() # important to create a copy of the grid every time\n",
    "                \n",
    "                for i in range(0, grid_size):\n",
    "                    for j in range(0, grid_size):\n",
    "                        \n",
    "                        state = grid[i,j]\n",
    "                        if state == 0:\n",
    "                            state = dive_in(grid, i, j, weight_neigh, stoch_param)\n",
    "                        elif state == 1:\n",
    "                            state = come_up(prob_come_up)\n",
    "                        elif state == 2:\n",
    "                            state = 1\n",
    "                        new_grid[i,j] = state\n",
    "\n",
    "                grid = new_grid.copy()\n",
    "                img = ax.imshow(grid, cmap=cm, norm=norm)\n",
    "                ax.axis(\"off\")\n",
    "\n",
    "                # Color bar settings\n",
    "                if t == 0:\n",
    "                    cb = fig.colorbar(img, format=fmt, ticks=tickz)\n",
    "\n",
    "                ax.set_title(\"gamma = \" + str(round(weight_neigh,1)) + \", alpha = \"+ str(prob_come_up) + \", beta = \" + str(stoch_param))\n",
    "                plt.show()\n",
    "                frames.append([img]) # Append the image as a frame to the video\n",
    "                \n",
    "            name = str(weight_neigh)+\"_\"+str(prob_come_up)+\"_\"+str(stoch_param)\n",
    "            fig.savefig(r\"C:\\\\temp5\\\\photo\" + name+'.png')\n",
    "            \n",
    "            ani = matplotlib.animation.ArtistAnimation(fig, frames, interval=dt*1000, blit=True,\n",
    "                                            repeat_delay=1000)\n",
    "      \n",
    "            ani.save(r\"C:\\\\temp\\\\\" + name + \".gif\", writer='imagemagick')"
   ]
  },
  {
   "cell_type": "markdown",
   "metadata": {},
   "source": [
    "## Results & Discussion"
   ]
  },
  {
   "cell_type": "markdown",
   "metadata": {},
   "source": [
    "After performing simulations changing the three key parameters, we were able to find one that ended up being the most accurate representation of the waves produced by the mollies. In it, we can see that at first, spontaneous circles are formed around random dives that end up propagating across the whole lake. After the whole lake has dived and fish start to resurface again, new dives occur and smaller waves follow."
   ]
  },
  {
   "cell_type": "code",
   "execution_count": 7,
   "metadata": {},
   "outputs": [
    {
     "data": {
      "text/html": [
       "<img src=\"gifs\\0.4_0.05_2e-05.gif\"/>"
      ],
      "text/plain": [
       "<IPython.core.display.Image object>"
      ]
     },
     "execution_count": 7,
     "metadata": {},
     "output_type": "execute_result"
    }
   ],
   "source": [
    "Image(url='gifs\\\\0.4_0.05_2e-05.gif')  "
   ]
  },
  {
   "cell_type": "markdown",
   "metadata": {},
   "source": [
    "We can see it is a pretty good representation of the antibehavior effect exhibited in the videos of the mollies. However, what happens if we tweak some of the parameters?"
   ]
  },
  {
   "cell_type": "markdown",
   "metadata": {},
   "source": [
    "### Trusting your peers blindly"
   ]
  },
  {
   "cell_type": "markdown",
   "metadata": {},
   "source": [
    "Here, we will increase consideribly the level of trust to their peers. What happens is that there is **almost no fish in the surface** (which would consume a lot of energy for every fish, going up and down the whole time) and that the waves (because of how the grid is configured) appear to be squared. Using a **lower** $\\gamma$ value also induces a **rounder shape of the waves**."
   ]
  },
  {
   "cell_type": "code",
   "execution_count": 8,
   "metadata": {},
   "outputs": [
    {
     "data": {
      "text/html": [
       "<img src=\"gifs\\0.9_0.05_2e-05.gif\"/>"
      ],
      "text/plain": [
       "<IPython.core.display.Image object>"
      ]
     },
     "execution_count": 8,
     "metadata": {},
     "output_type": "execute_result"
    }
   ],
   "source": [
    "Image(url='gifs\\\\0.9_0.05_2e-05.gif')  "
   ]
  },
  {
   "cell_type": "markdown",
   "metadata": {},
   "source": [
    "### Not trusting your peers."
   ]
  },
  {
   "cell_type": "markdown",
   "metadata": {},
   "source": [
    "Here, we will decrease the level of trust to their peers. This way, as it could be expected **no waves are propagated**, since the fish don't dive in when a peer fish does so."
   ]
  },
  {
   "cell_type": "code",
   "execution_count": 9,
   "metadata": {},
   "outputs": [
    {
     "data": {
      "text/html": [
       "<img src=\"gifs\\0.15_0.05_2e-05.gif\"/>"
      ],
      "text/plain": [
       "<IPython.core.display.Image object>"
      ]
     },
     "execution_count": 9,
     "metadata": {},
     "output_type": "execute_result"
    }
   ],
   "source": [
    "Image(url='gifs\\\\0.15_0.05_2e-05.gif')"
   ]
  },
  {
   "cell_type": "markdown",
   "metadata": {},
   "source": [
    "### Staying too little underwater"
   ]
  },
  {
   "cell_type": "markdown",
   "metadata": {},
   "source": [
    "It can be seen that when they stay too little under water, waves start forming within the first waves towards the center (very fast absolute refractory period), and the animals just go up and down almost instantly: 0.3 would mean that after 4 time steps (0.4 seconds), each fish will emerge after going down. The system is **completely unstable** and there is too much of an energy consumption, going up and down every half second."
   ]
  },
  {
   "cell_type": "code",
   "execution_count": 10,
   "metadata": {},
   "outputs": [
    {
     "data": {
      "text/html": [
       "<img src=\"gifs\\0.4_0.3_2e-05.gif\"/>"
      ],
      "text/plain": [
       "<IPython.core.display.Image object>"
      ]
     },
     "execution_count": 10,
     "metadata": {},
     "output_type": "execute_result"
    }
   ],
   "source": [
    "Image(url='gifs\\\\0.4_0.3_2e-05.gif')"
   ]
  },
  {
   "cell_type": "markdown",
   "metadata": {},
   "source": [
    "### Staying too long underwater"
   ]
  },
  {
   "cell_type": "markdown",
   "metadata": {},
   "source": [
    "First of all, this **cannot even be possible**, since the fish would have to stay underwater, in average, for 1,000 seconds. And secondly, it does not recreate at all our model: **there is just one big wave accross the pond** and that is all. Once the resurfaced mollies are there, there is no way to communicate with the others as all the fishes in between are underwater."
   ]
  },
  {
   "cell_type": "code",
   "execution_count": 11,
   "metadata": {},
   "outputs": [
    {
     "data": {
      "text/html": [
       "<img src=\"gifs\\0.4_0.0005_2e-05.gif\"/>"
      ],
      "text/plain": [
       "<IPython.core.display.Image object>"
      ]
     },
     "execution_count": 11,
     "metadata": {},
     "output_type": "execute_result"
    }
   ],
   "source": [
    "Image(url='gifs\\\\0.4_0.0005_2e-05.gif')"
   ]
  },
  {
   "cell_type": "markdown",
   "metadata": {},
   "source": [
    "### Diving randomly too often"
   ]
  },
  {
   "cell_type": "markdown",
   "metadata": {},
   "source": [
    "A super fast initial wave occurs and then **there is no actual waves happening, but just bursts of dives**. As said before, too much energy consumed by the fish, and the actual mechanism of diving just when your peers dive is compromised."
   ]
  },
  {
   "cell_type": "code",
   "execution_count": 12,
   "metadata": {},
   "outputs": [
    {
     "data": {
      "text/html": [
       "<img src=\"gifs\\0.4_0.05_0.02.gif\"/>"
      ],
      "text/plain": [
       "<IPython.core.display.Image object>"
      ]
     },
     "execution_count": 12,
     "metadata": {},
     "output_type": "execute_result"
    }
   ],
   "source": [
    "Image(url='gifs\\\\0.4_0.05_0.02.gif')"
   ]
  },
  {
   "cell_type": "markdown",
   "metadata": {},
   "source": [
    "### Diving randomly happening too rarely"
   ]
  },
  {
   "cell_type": "markdown",
   "metadata": {},
   "source": [
    "**No waves happen**. We would need an **input** to the system (introducing an aviary predator), or **wait much longer** (here it is a 30 s simulation), just for one random wave to happen accross the lake)."
   ]
  },
  {
   "cell_type": "code",
   "execution_count": 13,
   "metadata": {},
   "outputs": [
    {
     "data": {
      "text/html": [
       "<img src=\"gifs\\0.4_0.05_2e-07.gif\"/>"
      ],
      "text/plain": [
       "<IPython.core.display.Image object>"
      ]
     },
     "execution_count": 13,
     "metadata": {},
     "output_type": "execute_result"
    }
   ],
   "source": [
    "Image(url='gifs\\\\0.4_0.05_2e-07.gif')"
   ]
  },
  {
   "cell_type": "markdown",
   "metadata": {},
   "source": [
    "## Conclusions"
   ]
  },
  {
   "cell_type": "markdown",
   "metadata": {},
   "source": [
    "Sulphur mollies have developed a very fascinating strategy to avoid being predated. They have no predators in their waters, too sulphidic for almost any other kind of fish to survive. However, as they have to remain on the surface for very long periods of time to be able to breathe, aviatory predators have an easy way of detecting them.\n",
    "\n",
    "They have, through evolution, tuned these three parameteres for which we have tested: learned to trust their peers enough, not to stay too little or long under water for the wave system to work. And also, they have learned that they cannot dive randomly too much or their peers will not trust them anymore, and the pond will become a chaotic sequence of waves that do not follow any pattern.\n",
    "\n",
    "It is important thus that a good balance between these parameters is found for the recreation of the model. I have not tried for every single possible combination, but a lot of them, and although there may be a combination of parameters that better reflect the mollies' behavior; I would say this looks like a fair enough good approximation to their behavior."
   ]
  },
  {
   "cell_type": "markdown",
   "metadata": {},
   "source": [
    "## References"
   ]
  },
  {
   "cell_type": "markdown",
   "metadata": {},
   "source": [
    "[1] Culumber, Z. W., Hopper, G. W., Barts, N., Passow, C. N., Morgan, S., Brown, A., Arias-Rodriguez, L., and Tobler, M. (2016) Habitat use by two extremophile, highly endemic, and critically endangered fish species (Gambusia eurystoma and Poecilia sulphuraria; Poeciliidae), 26: 1155– 1167. doi: doi:10.1002/aqc.2640.\n",
    "\n",
    "[2] Doran, C., Bierbach, D., Lukas, J., Klamser, P., Landgraf, T., Klenz, H., … Krause, J. (2022). Fish waves as emergent collective antipredator behavior. Current Biology, 32(3), 708-714.e4. doi:10.1016/j.cub.2021.11.068"
   ]
  }
 ],
 "metadata": {
  "kernelspec": {
   "display_name": "Python 3 (ipykernel)",
   "language": "python",
   "name": "python3"
  },
  "language_info": {
   "codemirror_mode": {
    "name": "ipython",
    "version": 3
   },
   "file_extension": ".py",
   "mimetype": "text/x-python",
   "name": "python",
   "nbconvert_exporter": "python",
   "pygments_lexer": "ipython3",
   "version": "3.10.7"
  }
 },
 "nbformat": 4,
 "nbformat_minor": 4
}
