{
 "cells": [
  {
   "cell_type": "markdown",
   "metadata": {},
   "source": [
    "# Martin Iniguez de Onzono Muruaga. Summer Semester 2022."
   ]
  },
  {
   "cell_type": "markdown",
   "metadata": {},
   "source": [
    "# Sulphur mollies' waves model"
   ]
  },
  {
   "cell_type": "markdown",
   "metadata": {},
   "source": [
    "## Introduction"
   ]
  },
  {
   "cell_type": "markdown",
   "metadata": {},
   "source": [
    "*Poecilia sulphuraria*, also known as sulphur mollies, are a variety of fish, highly endemic to some sulphide spring complexes in Mexico, being discovered in *Baños del Azufre*, which literally translates to \"Sulphur Baths\" in Spanish. \n",
    "These small extremophiles which can grow up to 12 cm, are used to these $H_{2}S$-rich waters, in which they can be found in high abundance and density **[1]**.\n",
    "\n",
    "Due to water's low oxygen content, mollies gather at the surface to be able to breath air. For avian predators, that is a perfect scenario, in which they can spot their preys easily and pull them out of the water without having to dive inside the sulphide springs. These mollies have developed a remarkable collective antipredator behavior, based on high density of its kind and \"trust\" in their school of fish and their neighbors.\n",
    "    \n",
    "Once a molly detects an anomaly in its surroundings (very well may be spotting a bird or another animal going around them, or just a leaf falling on top of the water), they will dive into safety. Surrounding mollies will follow, forming \"fish waves\" that can be very visible from the surface, and expand acroos the pond. Sometimes this dives are just random, or are not due to a specific threat, and mollies will also follow their partners. These waves also produces some visual effect on the predators, which are discouraged to go into the water since a bigger predator producing these waves could be hiding in them **[2]**."
   ]
  },
  {
   "cell_type": "markdown",
   "metadata": {},
   "source": [
    "## Mathematical Model"
   ]
  },
  {
   "cell_type": "markdown",
   "metadata": {},
   "source": [
    "Those waves create a challenge for the creation of a model representating those waves in a large population of mollies. For that a 100x100 square matrix was created, in which each cell represented the state of a fish: 0 for being in the surface (**S**), 1 for staying at the bottom (**B**), and 2 for diving in (**D**). The matrix started as all the values set to 0 (no disturbance yet occured), and these states were updated every time step (0.1 s), until a simulation of 30 s was completed (total 300 time steps simulated).\n",
    "\n",
    "In an early stage of the model, the inclusion of only 2 possible states (surface and underwater) was contemplated. However, the inclusion of a 3$^{rd}$ one reduced the complexity of the system (no need to record how long has passed since a change of state has occured), it introduces an absolute refractory period (at least 1 time step), and it allows for easier visualization: the splash produced by the waves can be visualized thanks to a color map showing the fish exactly when they dive in.\n",
    "  \n",
    "Once it was established that the fishes could be in three different states, a stochastic model was set to produce the changes from one state to the next one, encompassing these three important factors:\n",
    "\n",
    "-  Time they can stay underwater without breathing pure air (represented mathematically by parameter $\\alpha$ ).\n",
    "-  How frequent random dives happen ($\\beta$ ).\n",
    "-  Trust of the fish to their peers ($\\gamma$).\n",
    "\n",
    "Thus, the transition probability from Surface state to Diving one depends on parameters $\\beta$ and $\\gamma$, the transition probability from Bottom to Surface depends on $\\alpha$, and Diving follows into Bottom state directly after 1 time step (time that it takes for the fish to dive in)."
   ]
  },
  {
   "cell_type": "code",
   "execution_count": 1,
   "metadata": {},
   "outputs": [
    {
     "data": {
      "image/png": "[encoded data removed]",
      "text/plain": [
       "<IPython.core.display.Image object>"
      ]
     },
     "execution_count": 1,
     "metadata": {},
     "output_type": "execute_result"
    }
   ],
   "source": [
    "from IPython.display import Image\n",
    "\n",
    "Image('diagram.png')"
   ]
  },
  {
   "cell_type": "markdown",
   "metadata": {},
   "source": [
    "To calculate those transition probabilities I used the following equations:"
   ]
  },
  {
   "cell_type": "markdown",
   "metadata": {},
   "source": [
    "$$ P_i(S_{t+1}|B_{t}) = \\alpha $$\n",
    "\n",
    "$$ P_i(D_{t+1}|S_{t}) = \\sum_{neighbors} \\gamma d_{j,t} + \\beta $$\n",
    "\n",
    "$$ P_i(B_{t+1}|D_{t}) = 1 $$"
   ]
  },
  {
   "cell_type": "markdown",
   "metadata": {},
   "source": [
    "In the first equation, the transition probability of a fish to go from resurface in the next time step is $\\alpha$, which would represent the time a fish can stay underwater until the urge of going up to the surface is too strong. \n",
    "\n",
    "In the second equation, the transition probability of a fish to dive in, is the sum of the state of the surrounding neighbors, being $d_{i,t}$ = 1 when a neighboring fish *i* is diving in time step *t*, and 0 otherwise. This sum is weighted by parameter $\\gamma$, reflecting the trust of the fish to its peers. If $\\gamma$ is equal to 1, it means that whenever there is 1 fish diving in, all of its neighbors will follow, for 0.5, it would mean half of its neighbots follow, and so on. As the system starts with all fishes at the surface, it needs a stochastic parameter $\\beta$ that allows for random diving of the fish, or the system would remain static at the fixed point corresponding to all the points of the grid being 0.\n",
    "\n",
    "As for the last equation, it is pretty easy. The Diving state is an unstable one in which the fish only remain for 1 time step."
   ]
  },
  {
   "cell_type": "markdown",
   "metadata": {},
   "source": [
    "## Computational Model"
   ]
  },
  {
   "cell_type": "markdown",
   "metadata": {},
   "source": [
    "First, all the necessary tools and packages are imported."
   ]
  },
  {
   "cell_type": "code",
   "execution_count": 2,
   "metadata": {},
   "outputs": [],
   "source": [
    "import numpy as np\n",
    "import matplotlib.pyplot as plt\n",
    "import matplotlib.animation as anim\n",
    "import matplotlib\n",
    "from matplotlib.colors import ListedColormap"
   ]
  },
  {
   "cell_type": "markdown",
   "metadata": {},
   "source": [
    "Now, the functions that are used to embellish or shorten the computation in the final code are presented here."
   ]
  },
  {
   "cell_type": "code",
   "execution_count": 3,
   "metadata": {},
   "outputs": [],
   "source": [
    "# Function that detects whether the index provided of the cell lies on an edge of the grid. \n",
    "def edges(grid_dim, index):\n",
    "    if index == 0: # If we are on the first row/column\n",
    "        start_index = 0;\n",
    "        end_index = index + 2;\n",
    "    elif index == grid_dim - 1: # If we are on the last row/column\n",
    "        start_index = index-1;\n",
    "        end_index = grid_dim;\n",
    "    else:\n",
    "        start_index = index- 1;\n",
    "        end_index = index + 2;\n",
    "    return start_index, end_index    \n",
    "\n",
    "# Function that provides the 3x3 grid surrounding a cell with the state of all the neighbors (smaller when in the edges).\n",
    "def surroundings(grid, row_ind, column_ind):\n",
    "    height, width = grid.shape\n",
    "    start_row, end_row = edges(height, row_ind)\n",
    "    start_col, end_col = edges(width, column_ind)\n",
    "    \n",
    "    neighbors = grid[start_row:end_row, start_col:end_col]\n",
    "    return neighbors\n",
    "\n",
    "# Function that gives the appropiate color map and functions for the color bar so we have the desired colors in the graph.\n",
    "def give_color_map():\n",
    "    \n",
    "    col_dict={0:\"#0066cc\",\n",
    "          1:\"#808080\",\n",
    "          2:\"white\"}\n",
    "\n",
    "    cm = ListedColormap([col_dict[x] for x in col_dict.keys()])\n",
    "\n",
    "    labels = np.array([\"Surface\",\"Bottom\",\"Dive in\"])\n",
    "    len_lab = len(labels)\n",
    "\n",
    "    norm_bins = np.sort([*col_dict.keys()]) + 0.5\n",
    "    norm_bins = np.insert(norm_bins, 0, np.min(norm_bins) - 1.0)\n",
    "\n",
    "    norm = matplotlib.colors.BoundaryNorm(norm_bins, len_lab, clip=True)\n",
    "    fmt = matplotlib.ticker.FuncFormatter(lambda x, pos: labels[norm(x)])\n",
    "\n",
    "    return cm, norm, norm_bins, fmt"
   ]
  },
  {
   "cell_type": "markdown",
   "metadata": {},
   "source": [
    "Then, the functions that calculate whether there is a stochastic change of state or not."
   ]
  },
  {
   "cell_type": "code",
   "execution_count": 4,
   "metadata": {},
   "outputs": [],
   "source": [
    "# In the case of being at the Bottom, it will rise up if alpha > random number generated between 0 and 1.\n",
    "def come_up(prob_go_up):\n",
    "    p = prob_go_up\n",
    "    rand_num = np.random.random()\n",
    "    state = p < rand_num\n",
    "    return int(state)\n",
    "\n",
    "# In the case of being at the Surface, it will dive if the weighted sum of the amount of diving neighbors + beta\n",
    "# is greater than a random number between 0 and 1.\n",
    "def dive_in(grid, row_ind, col_ind, weight_neigh, stoch_param):\n",
    "    neighbors = surroundings(grid, row_ind, col_ind)\n",
    "    prob = sum(sum((neighbors==2))) * weight_neigh + stoch_param\n",
    "    rand_num = np.random.random()\n",
    "    diving = prob > rand_num\n",
    "    if diving:\n",
    "        return 2\n",
    "    else:\n",
    "        return 0"
   ]
  },
  {
   "cell_type": "markdown",
   "metadata": {},
   "source": [
    "Here, I define the main parameters of the model, being the time step (0.1 s), the length of the simulation, the grid size, and which will be the gammas, alphas, and betas I will use to look at different scenarios."
   ]
  },
  {
   "cell_type": "code",
   "execution_count": 5,
   "metadata": {},
   "outputs": [],
   "source": [
    "dt = 0.1 #s\n",
    "total_time = 30 #s\n",
    "time_steps = np.arange(0,total_time,dt)\n",
    "\n",
    "grid_size = 100\n",
    "\n",
    "gamma = [0.15, 0.4, 0.9] # 0.4 default, Weight of the neighboring dives\n",
    "beta = [0.02, 2e-5, 2e-7] # 2e-05 default, Stochastic going down\n",
    "alpha = [0.3, 5e-2, 5e-4] # 5e-2 default, Prob coming up\n",
    "\n",
    "# Parameters used in visualization of the color maps.\n",
    "cm, norm, norm_bins, fmt = give_color_map()\n",
    "diff = norm_bins[1:] - norm_bins[:-1]\n",
    "tickz = norm_bins[:-1] + diff / 2"
   ]
  },
  {
   "cell_type": "markdown",
   "metadata": {},
   "source": [
    "Finally, the main code, in which different loops are used to look at different combinations of the parameters so the one that better approximates to the real scenario is found. Videos are created as animation so the whole dynamics can be appreciated."
   ]
  },
  {
   "cell_type": "code",
   "execution_count": 6,
   "metadata": {},
   "outputs": [
    {
     "data": {
      "image/png": "[encoded data removed]",
      "text/plain": [
       "<Figure size 640x480 with 2 Axes>"
      ]
     },
     "metadata": {},
     "output_type": "display_data"
    }
   ],
   "source": [
    "for weight_neigh in gamma:\n",
    "    for stoch_param in beta:\n",
    "        for prob_come_up in alpha:\n",
    "            \n",
    "            grid = np.zeros((grid_size, grid_size))\n",
    "            fig,ax = plt.subplots()\n",
    "            frames = [] # for storing the generated images\n",
    "            \n",
    "            for t in time_steps:\n",
    "                new_grid = grid.copy() # important to create a copy of the grid every time\n",
    "                \n",
    "                for i in range(0, grid_size):\n",
    "                    for j in range(0, grid_size):\n",
    "                        \n",
    "                        state = grid[i,j]\n",
    "                        if state == 0:\n",
    "                            state = dive_in(grid, i, j, weight_neigh, stoch_param)\n",
    "                        elif state == 1:\n",
    "                            state = come_up(prob_come_up)\n",
    "                        elif state == 2:\n",
    "                            state = 1\n",
    "                        new_grid[i,j] = state\n",
    "\n",
    "                grid = new_grid.copy()\n",
    "                img = ax.imshow(grid, cmap=cm, norm=norm)\n",
    "                ax.axis(\"off\")\n",
    "\n",
    "                # Color bar settings\n",
    "                if t == 0:\n",
    "                    cb = fig.colorbar(img, format=fmt, ticks=tickz)\n",
    "\n",
    "                ax.set_title(\"gamma = \" + str(round(weight_neigh,1)) + \", alpha = \"+ str(prob_come_up) + \", beta = \" + str(stoch_param))\n",
    "                plt.show()\n",
    "                frames.append([img]) # Append the image as a frame to the video\n",
    "                \n",
    "            name = str(weight_neigh)+\"_\"+str(prob_come_up)+\"_\"+str(stoch_param)\n",
    "            fig.savefig(r\"C:\\\\temp5\\\\photo\" + name+'.png')\n",
    "            \n",
    "            ani = matplotlib.animation.ArtistAnimation(fig, frames, interval=dt*1000, blit=True,\n",
    "                                            repeat_delay=1000)\n",
    "      \n",
    "            ani.save(r\"C:\\\\temp5\\\\\" + name + \".gif\", writer='imagemagick')"
   ]
  },
  {
   "cell_type": "markdown",
   "metadata": {},
   "source": [
    "## Results & Discussion"
   ]
  },
  {
   "cell_type": "markdown",
   "metadata": {},
   "source": [
    "After performing simulations changing the three key parameters, we were able to find one that ended up being the most accurate representation of the waves produced by the mollies. In it, we can see that at first, spontaneous circles are formed around random dives that end up propagating across the whole lake. After the whole lake has dived and fish start to resurface again, new dives occur and smaller waves follow."
   ]
  },
  {
   "cell_type": "code",
   "execution_count": 7,
   "metadata": {},
   "outputs": [
    {
     "data": {
      "text/html": [
       "<img src=\"gifs\\0.4_0.05_2e-05.gif\"/>"
      ],
      "text/plain": [
       "<IPython.core.display.Image object>"
      ]
     },
     "execution_count": 7,
     "metadata": {},
     "output_type": "execute_result"
    }
   ],
   "source": [
    "Image(url='gifs\\\\0.4_0.05_2e-05.gif')  "
   ]
  },
  {
   "cell_type": "markdown",
   "metadata": {},
   "source": [
    "We can see it is a pretty good representation of the antibehavior effect exhibited in the videos of the mollies. However, what happens if we tweak some of the parameters?"
   ]
  },
  {
   "cell_type": "markdown",
   "metadata": {},
   "source": [
    "### Trusting your peers blindly"
   ]
  },
  {
   "cell_type": "markdown",
   "metadata": {},
   "source": [
    "Here, we will increase consideribly the level of trust to their peers. What happens is that there is **almost no fish in the surface** (which would consume a lot of energy for every fish, going up and down the whole time) and that the waves (because of how the grid is configured) appear to be squared. Using a **lower** $\\gamma$ value also induces a **rounder shape of the waves**."
   ]
  },
  {
   "cell_type": "code",
   "execution_count": 8,
   "metadata": {},
   "outputs": [
    {
     "data": {
      "text/html": [
       "<img src=\"gifs\\0.9_0.05_2e-05.gif\"/>"
      ],
      "text/plain": [
       "<IPython.core.display.Image object>"
      ]
     },
     "execution_count": 8,
     "metadata": {},
     "output_type": "execute_result"
    }
   ],
   "source": [
    "Image(url='gifs\\\\0.9_0.05_2e-05.gif')  "
   ]
  },
  {
   "cell_type": "markdown",
   "metadata": {},
   "source": [
    "### Not trusting your peers."
   ]
  },
  {
   "cell_type": "markdown",
   "metadata": {},
   "source": [
    "Here, we will decrease the level of trust to their peers. This way, as it could be expected **no waves are propagated**, since the fish don't dive in when a peer fish does so."
   ]
  },
  {
   "cell_type": "code",
   "execution_count": 9,
   "metadata": {},
   "outputs": [
    {
     "data": {
      "text/html": [
       "<img src=\"gifs\\0.15_0.05_2e-05.gif\"/>"
      ],
      "text/plain": [
       "<IPython.core.display.Image object>"
      ]
     },
     "execution_count": 9,
     "metadata": {},
     "output_type": "execute_result"
    }
   ],
   "source": [
    "Image(url='gifs\\\\0.15_0.05_2e-05.gif')"
   ]
  },
  {
   "cell_type": "markdown",
   "metadata": {},
   "source": [
    "### Staying too little underwater"
   ]
  },
  {
   "cell_type": "markdown",
   "metadata": {},
   "source": [
    "It can be seen that when they stay too little under water, waves start forming within the first waves towards the center (very fast absolute refractory period), and the animals just go up and down almost instantly: 0.3 would mean that after 4 time steps (0.4 seconds), each fish will emerge after going down. The system is **completely unstable** and there is too much of an energy consumption, going up and down every half second."
   ]
  },
  {
   "cell_type": "code",
   "execution_count": 10,
   "metadata": {},
   "outputs": [
    {
     "data": {
      "text/html": [
       "<img src=\"gifs\\0.4_0.3_2e-05.gif\"/>"
      ],
      "text/plain": [
       "<IPython.core.display.Image object>"
      ]
     },
     "execution_count": 10,
     "metadata": {},
     "output_type": "execute_result"
    }
   ],
   "source": [
    "Image(url='gifs\\\\0.4_0.3_2e-05.gif')"
   ]
  },
  {
   "cell_type": "markdown",
   "metadata": {},
   "source": [
    "### Staying too long underwater"
   ]
  },
  {
   "cell_type": "markdown",
   "metadata": {},
   "source": [
    "First of all, this **cannot even be possible**, since the fish would have to stay underwater, in average, for 1,000 seconds. And secondly, it does not recreate at all our model: **there is just one big wave accross the pond** and that is all. Once the resurfaced mollies are there, there is no way to communicate with the others as all the fishes in between are underwater."
   ]
  },
  {
   "cell_type": "code",
   "execution_count": 11,
   "metadata": {},
   "outputs": [
    {
     "data": {
      "text/html": [
       "<img src=\"gifs\\0.4_0.0005_2e-05.gif\"/>"
      ],
      "text/plain": [
       "<IPython.core.display.Image object>"
      ]
     },
     "execution_count": 11,
     "metadata": {},
     "output_type": "execute_result"
    }
   ],
   "source": [
    "Image(url='gifs\\\\0.4_0.0005_2e-05.gif')"
   ]
  },
  {
   "cell_type": "markdown",
   "metadata": {},
   "source": [
    "### Diving randomly too often"
   ]
  },
  {
   "cell_type": "markdown",
   "metadata": {},
   "source": [
    "A super fast initial wave occurs and then **there is no actual waves happening, but just bursts of dives**. As said before, too much energy consumed by the fish, and the actual mechanism of diving just when your peers dive is compromised."
   ]
  },
  {
   "cell_type": "code",
   "execution_count": 12,
   "metadata": {},
   "outputs": [
    {
     "data": {
      "text/html": [
       "<img src=\"gifs\\0.4_0.05_0.02.gif\"/>"
      ],
      "text/plain": [
       "<IPython.core.display.Image object>"
      ]
     },
     "execution_count": 12,
     "metadata": {},
     "output_type": "execute_result"
    }
   ],
   "source": [
    "Image(url='gifs\\\\0.4_0.05_0.02.gif')"
   ]
  },
  {
   "cell_type": "markdown",
   "metadata": {},
   "source": [
    "### Diving randomly happening too rarely"
   ]
  },
  {
   "cell_type": "markdown",
   "metadata": {},
   "source": [
    "**No waves happen**. We would need an **input** to the system (introducing an aviary predator), or **wait much longer** (here it is a 30 s simulation), just for one random wave to happen accross the lake)."
   ]
  },
  {
   "cell_type": "code",
   "execution_count": 13,
   "metadata": {},
   "outputs": [
    {
     "data": {
      "text/html": [
       "<img src=\"gifs\\0.4_0.05_2e-07.gif\"/>"
      ],
      "text/plain": [
       "<IPython.core.display.Image object>"
      ]
     },
     "execution_count": 13,
     "metadata": {},
     "output_type": "execute_result"
    }
   ],
   "source": [
    "Image(url='gifs\\\\0.4_0.05_2e-07.gif')"
   ]
  },
  {
   "cell_type": "markdown",
   "metadata": {},
   "source": [
    "## Conclusions"
   ]
  },
  {
   "cell_type": "markdown",
   "metadata": {},
   "source": [
    "Sulphur mollies have developed a very fascinating strategy to avoid being predated. They have no predators in their waters, too sulphidic for almost any other kind of fish to survive. However, as they have to remain on the surface for very long periods of time to be able to breathe, aviatory predators have an easy way of detecting them.\n",
    "\n",
    "They have, through evolution, tuned these three parameteres for which we have tested: learned to trust their peers enough, not to stay too little or long under water for the wave system to work. And also, they have learned that they cannot dive randomly too much or their peers will not trust them anymore, and the pond will become a chaotic sequence of waves that do not follow any pattern.\n",
    "\n",
    "It is important thus that a good balance between these parameters is found for the recreation of the model. I have not tried for every single possible combination, but a lot of them, and although there may be a combination of parameters that better reflect the mollies' behavior; I would say this looks like a fair enough good approximation to their behavior."
   ]
  },
  {
   "cell_type": "markdown",
   "metadata": {},
   "source": [
    "## References"
   ]
  },
  {
   "cell_type": "markdown",
   "metadata": {},
   "source": [
    "[1] Culumber, Z. W., Hopper, G. W., Barts, N., Passow, C. N., Morgan, S., Brown, A., Arias-Rodriguez, L., and Tobler, M. (2016) Habitat use by two extremophile, highly endemic, and critically endangered fish species (Gambusia eurystoma and Poecilia sulphuraria; Poeciliidae), 26: 1155– 1167. doi: doi:10.1002/aqc.2640.\n",
    "\n",
    "[2] Doran, C., Bierbach, D., Lukas, J., Klamser, P., Landgraf, T., Klenz, H., … Krause, J. (2022). Fish waves as emergent collective antipredator behavior. Current Biology, 32(3), 708-714.e4. doi:10.1016/j.cub.2021.11.068"
   ]
  }
 ],
 "metadata": {
  "kernelspec": {
   "display_name": "Python 3 (ipykernel)",
   "language": "python",
   "name": "python3"
  },
  "language_info": {
   "codemirror_mode": {
    "name": "ipython",
    "version": 3
   },
   "file_extension": ".py",
   "mimetype": "text/x-python",
   "name": "python",
   "nbconvert_exporter": "python",
   "pygments_lexer": "ipython3",
   "version": "3.10.7"
  }
 },
 "nbformat": 4,
 "nbformat_minor": 4
}
